{
 "cells": [
  {
   "cell_type": "code",
   "execution_count": 1,
   "metadata": {},
   "outputs": [
    {
     "name": "stdout",
     "output_type": "stream",
     "text": [
      "curses is not supported on this machine (please install/reinstall curses for an optimal experience)\n"
     ]
    }
   ],
   "source": [
    "%reload_ext autoreload \n",
    "%autoreload 2\n",
    "from cchess import *\n",
    "import tensorflow as tf\n",
    "import numpy as np\n",
    "from matplotlib import pyplot as plt\n",
    "import random \n",
    "import time\n",
    "from utils import Dataset,ProgressBar\n",
    "from tflearn.data_flow import DataFlow,DataFlowStatus,FeedDictFlow\n",
    "from tflearn.data_utils import Preloader,ImagePreloader\n",
    "import scipy\n",
    "import pandas as pd\n",
    "import xmltodict\n",
    "from game_convert import convert_game\n",
    "import tflearn"
   ]
  },
  {
   "cell_type": "markdown",
   "metadata": {},
   "source": [
    "# a network predict select and move of Chinese chess, with minimal preprocessing"
   ]
  },
  {
   "cell_type": "code",
   "execution_count": 2,
   "metadata": {
    "collapsed": true
   },
   "outputs": [],
   "source": [
    "GPU_CORE = 0\n",
    "BATCH_SIZE = 256\n",
    "BEGINING_LR = 0.01\n",
    "#TESTIMG_WIDTH = 500\n",
    "model_name = '11_4_resnet'\n",
    "data_dir = 'data/imsa-cbf/'"
   ]
  },
  {
   "cell_type": "code",
   "execution_count": 3,
   "metadata": {
    "collapsed": true
   },
   "outputs": [],
   "source": [
    "class ElePreloader(object):\n",
    "    def __init__(self,datafile,batch_size=64):\n",
    "        self.batch_size=batch_size\n",
    "        content = pd.read_csv(datafile,header=None,index_col=None)\n",
    "        self.filelist = [i[0] for i in content.get_values()]\n",
    "        self.pos = 0\n",
    "        self.feature_list = {\"red\":['A', 'B', 'C', 'K', 'N', 'P', 'R']\n",
    "                             ,\"black\":['a', 'b', 'c', 'k', 'n', 'p', 'r']}\n",
    "        self.batch_size = batch_size\n",
    "        self.batch_iter = self.__iter()\n",
    "        assert(len(self.filelist) > batch_size)\n",
    "        self.game_iterlist = [None for i in self.filelist]\n",
    "    \n",
    "    def __iter(self):\n",
    "        retx1,rety1,retx2,rety2 = [],[],[],[]\n",
    "        filelist = []\n",
    "        while True:\n",
    "            for i in range(self.batch_size):\n",
    "                if self.game_iterlist[i] == None:\n",
    "                    if len(filelist) == 0:\n",
    "                        filelist = copy.copy(self.filelist)\n",
    "                        random.shuffle(filelist)\n",
    "                    self.game_iterlist[i] = convert_game(filelist.pop(),feature_list=self.feature_list)\n",
    "                game_iter = self.game_iterlist[i]\n",
    "                \n",
    "                try:\n",
    "                    x1,y1,x2,y2 = game_iter.__next__()\n",
    "                    x1 = np.transpose(x1,[1,2,0])\n",
    "                    x2 = np.transpose(x2,[1,2,0])\n",
    "                    x1 = np.expand_dims(x1,axis=0)\n",
    "                    x2 = np.expand_dims(x2,axis=0)\n",
    "                    retx1.append(x1)\n",
    "                    rety1.append(y1)\n",
    "                    retx2.append(x2)\n",
    "                    rety2.append(y2)\n",
    "                    if len(retx1) >= self.batch_size:\n",
    "                        yield (np.concatenate(retx1,axis=0),np.asarray(rety1)\n",
    "                               ,np.concatenate(retx2,axis=0),np.asarray(rety2))\n",
    "                        retx1,rety1,retx2,rety2 = [],[],[],[]\n",
    "                except :\n",
    "                    self.game_iterlist[i] = None\n",
    "\n",
    "    def __getitem__(self, id):\n",
    "        \n",
    "        x1,y1,x2,y2 = self.batch_iter.__next__()\n",
    "        return x1,y1,x2,y2\n",
    "        \n",
    "    def __len__(self):\n",
    "        return 10000"
   ]
  },
  {
   "cell_type": "code",
   "execution_count": 4,
   "metadata": {
    "collapsed": true
   },
   "outputs": [],
   "source": [
    "trainset = ElePreloader(datafile='data/train_list.csv',batch_size=BATCH_SIZE)\n",
    "with tf.device(\"/gpu:{}\".format(GPU_CORE)):\n",
    "    coord = tf.train.Coordinator()\n",
    "    trainflow = FeedDictFlow({\n",
    "            'data':trainset,\n",
    "        },coord,batch_size=BATCH_SIZE,shuffle=True,continuous=True,num_threads=1)\n",
    "trainflow.start()"
   ]
  },
  {
   "cell_type": "code",
   "execution_count": 5,
   "metadata": {
    "collapsed": true
   },
   "outputs": [],
   "source": [
    "testset = ElePreloader(datafile='data/test_list.csv',batch_size=BATCH_SIZE)\n",
    "with tf.device(\"/gpu:{}\".format(GPU_CORE)):\n",
    "    coord = tf.train.Coordinator()\n",
    "    testflow = FeedDictFlow({\n",
    "            'data':testset,\n",
    "        },coord,batch_size=BATCH_SIZE,shuffle=True,continuous=True,num_threads=1)\n",
    "testflow.start()"
   ]
  },
  {
   "cell_type": "code",
   "execution_count": 6,
   "metadata": {
    "collapsed": true
   },
   "outputs": [],
   "source": [
    "sample_x1,sample_y1,sample_x2,sample_y2 = trainflow.next()['data']"
   ]
  },
  {
   "cell_type": "code",
   "execution_count": 7,
   "metadata": {
    "collapsed": true
   },
   "outputs": [],
   "source": [
    "sample_x1,sample_y1,sample_x2,sample_y2 = testflow.next()['data']"
   ]
  },
  {
   "cell_type": "code",
   "execution_count": 8,
   "metadata": {},
   "outputs": [
    {
     "data": {
      "text/plain": [
       "((256, 10, 9, 14), (256, 10, 9), (256, 10, 9, 15), (256, 10, 9))"
      ]
     },
     "execution_count": 8,
     "metadata": {},
     "output_type": "execute_result"
    }
   ],
   "source": [
    "sample_x1.shape,sample_y1.shape,sample_x2.shape,sample_y2.shape"
   ]
  },
  {
   "cell_type": "code",
   "execution_count": 9,
   "metadata": {},
   "outputs": [
    {
     "data": {
      "text/plain": [
       "array([[ 1.,  1.,  1.,  1.,  1.,  1.,  1.,  1.,  1.],\n",
       "       [ 0.,  0.,  0.,  0.,  0.,  0.,  0.,  0.,  0.],\n",
       "       [ 0.,  1.,  0.,  0.,  0.,  0.,  0.,  1.,  0.],\n",
       "       [ 1.,  0.,  1.,  0.,  1.,  0.,  1.,  0.,  1.],\n",
       "       [ 0.,  0.,  0.,  0.,  0.,  0.,  0.,  0.,  0.],\n",
       "       [ 0.,  0.,  0.,  0.,  0.,  0.,  0.,  0.,  0.],\n",
       "       [ 1.,  0.,  2.,  0.,  1.,  0.,  1.,  0.,  1.],\n",
       "       [ 0.,  1.,  0.,  0.,  0.,  0.,  0.,  1.,  0.],\n",
       "       [ 0.,  0.,  0.,  0.,  0.,  0.,  0.,  0.,  0.],\n",
       "       [ 1.,  1.,  1.,  1.,  1.,  1.,  1.,  1.,  1.]])"
      ]
     },
     "execution_count": 9,
     "metadata": {},
     "output_type": "execute_result"
    }
   ],
   "source": [
    "np.sum(sample_x2[0],axis=-1)"
   ]
  },
  {
   "cell_type": "code",
   "execution_count": 10,
   "metadata": {},
   "outputs": [
    {
     "data": {
      "text/plain": [
       "(10, 9)"
      ]
     },
     "execution_count": 10,
     "metadata": {},
     "output_type": "execute_result"
    }
   ],
   "source": [
    "np.sum(sample_x1[0],axis=-1).shape"
   ]
  },
  {
   "cell_type": "code",
   "execution_count": 11,
   "metadata": {
    "collapsed": true
   },
   "outputs": [],
   "source": [
    "def res_block(inputx,name,training,block_num=2,filters=256,kernel_size=(3,3)):\n",
    "    net = inputx\n",
    "    for i in range(block_num):\n",
    "        net = tf.layers.conv2d(net,filters=filters,kernel_size=kernel_size,activation=None,name=\"{}_res_conv{}\".format(name,i),padding='same')\n",
    "        net = tf.layers.batch_normalization(net,training=training,name=\"{}_res_bn{}\".format(name,i))\n",
    "        if i == block_num - 1:\n",
    "            net = net + inputx #= tf.concat((inputx,net),axis=-1)\n",
    "        net = tf.nn.elu(net,name=\"{}_res_elu{}\".format(name,i))\n",
    "    return net\n",
    "\n",
    "def conv_block(inputx,name,training,block_num=1,filters=2,kernel_size=(1,1)):\n",
    "    net = inputx\n",
    "    for i in range(block_num):\n",
    "        net = tf.layers.conv2d(net,filters=filters,kernel_size=kernel_size,activation=None,name=\"{}_convblock_conv{}\".format(name,i),padding='same')\n",
    "        net = tf.layers.batch_normalization(net,training=training,name=\"{}_convblock_bn{}\".format(name,i))\n",
    "        net = tf.nn.elu(net,name=\"{}_convblock_elu{}\".format(name,i))\n",
    "    # net [None,10,9,2]\n",
    "    netshape = net.get_shape().as_list()\n",
    "    print(\"inside conv block {}\".format(str(netshape)))\n",
    "    net = tf.reshape(net,shape=(-1,netshape[1] * netshape[2] * netshape[3]))\n",
    "    net = tf.layers.dense(net,10 * 9,name=\"{}_dense\".format(name))\n",
    "    net = tf.nn.elu(net,name=\"{}_elu\".format(name))\n",
    "    return net\n",
    "\n",
    "def res_net_board(inputx,name,training,filters=256):\n",
    "    net = inputx\n",
    "    net = tf.layers.conv2d(net,filters=filters,kernel_size=(3,3),activation=None,name=\"{}_res_convb\".format(name),padding='same')\n",
    "    net = tf.layers.batch_normalization(net,training=training,name=\"{}_res_bnb\".format(name))\n",
    "    net = tf.nn.elu(net,name=\"{}_res_elub\".format(name))\n",
    "    for i in range(NUM_RES_LAYERS):\n",
    "        net = res_block(net,name=\"{}_layer_{}\".format(name,i + 1),training=training)\n",
    "        print(net.get_shape().as_list())\n",
    "    print(\"inside res net {}\".format(str(net.get_shape().as_list())))\n",
    "    net_unsoftmax = conv_block(net,name=\"{}_conv\".format(name),training=training)\n",
    "    return net_unsoftmax\n",
    "\n",
    "def get_scatter(name):\n",
    "    with tf.variable_scope(\"Test\"):\n",
    "        ph = tf.placeholder(tf.float32,name=name)\n",
    "        op = tf.summary.scalar(name,ph)\n",
    "    return ph,op"
   ]
  },
  {
   "cell_type": "code",
   "execution_count": 12,
   "metadata": {},
   "outputs": [
    {
     "name": "stdout",
     "output_type": "stream",
     "text": [
      "[None, 10, 9, 256]\n",
      "[None, 10, 9, 256]\n",
      "[None, 10, 9, 256]\n",
      "[None, 10, 9, 256]\n",
      "[None, 10, 9, 256]\n",
      "[None, 10, 9, 256]\n",
      "[None, 10, 9, 256]\n",
      "[None, 10, 9, 256]\n",
      "[None, 10, 9, 256]\n",
      "[None, 10, 9, 256]\n",
      "inside res net [None, 10, 9, 256]\n",
      "inside conv block [None, 10, 9, 2]\n",
      "[None, 10, 9, 256]\n",
      "[None, 10, 9, 256]\n",
      "[None, 10, 9, 256]\n",
      "[None, 10, 9, 256]\n",
      "[None, 10, 9, 256]\n",
      "[None, 10, 9, 256]\n",
      "[None, 10, 9, 256]\n",
      "[None, 10, 9, 256]\n",
      "[None, 10, 9, 256]\n",
      "[None, 10, 9, 256]\n",
      "inside res net [None, 10, 9, 256]\n",
      "inside conv block [None, 10, 9, 2]\n"
     ]
    }
   ],
   "source": [
    "tf.reset_default_graph()\n",
    "config = tf.ConfigProto()\n",
    "config.gpu_options.allow_growth = True\n",
    "config.allow_soft_placement = True\n",
    "sess = tf.Session(config=config)\n",
    "\n",
    "NUM_RES_LAYERS = 10\n",
    "\n",
    "with tf.device(\"/gpu:{}\".format(GPU_CORE)):\n",
    "    X1 = tf.placeholder(tf.float32,[None,10,9,14])\n",
    "    y1 = tf.placeholder(tf.float32,[None,10,9])\n",
    "    X2 = tf.placeholder(tf.float32,[None,10,9,15])\n",
    "    y2 = tf.placeholder(tf.float32,[None,10,9])\n",
    "    \n",
    "    training = tf.placeholder(tf.bool,name='training_mode')\n",
    "    learning_rate = tf.placeholder(tf.float32)\n",
    "    global_step = tf.train.get_or_create_global_step()\n",
    "    \n",
    "    net_unsoftmax1 = res_net_board(X1,\"selectnet\",training=training)\n",
    "    net_unsoftmax2 = res_net_board(X2,\"movenet\",training=training)\n",
    "    \n",
    "    target1 = tf.reshape(y1,(-1,10 * 9))\n",
    "    target2 = tf.reshape(y2,(-1,10 * 9))\n",
    "    with tf.variable_scope(\"Loss\"):\n",
    "        loss_select = tf.reduce_mean(tf.nn.softmax_cross_entropy_with_logits(labels=target1,logits=net_unsoftmax1))\n",
    "        loss_move = tf.reduce_mean(tf.nn.softmax_cross_entropy_with_logits(labels=target2,logits=net_unsoftmax2))\n",
    "        loss = loss_select + loss_move\n",
    "        \n",
    "        loss_select_summary = tf.summary.scalar(\"loss_select\",loss_select)\n",
    "        loss_move_summary = tf.summary.scalar(\"loss_move\",loss_move)\n",
    "        loss_summary = tf.summary.scalar(\"total_loss\",loss)\n",
    "    net_softmax1 = tf.nn.softmax(net_unsoftmax1)\n",
    "    net_softmax2 = tf.nn.softmax(net_unsoftmax2)\n",
    "    \n",
    "    correct_prediction1 = tf.equal(tf.argmax(target1,1), tf.argmax(net_softmax1,1))\n",
    "    correct_prediction2 = tf.equal(tf.argmax(target2,1), tf.argmax(net_softmax2,1))\n",
    "    \n",
    "    with tf.variable_scope(\"Accuracy\"):\n",
    "        accuracy_select = tf.reduce_mean(tf.cast(correct_prediction1, tf.float32))\n",
    "        accuracy_move = tf.reduce_mean(tf.cast(correct_prediction2, tf.float32))\n",
    "        accuracy_total = accuracy_select * accuracy_move\n",
    "        \n",
    "        acc_select_summary = tf.summary.scalar(\"accuracy_select\",accuracy_select)\n",
    "        acc_move_summary = tf.summary.scalar(\"accuracy_move\",accuracy_move)\n",
    "        acc_summary = tf.summary.scalar(\"acc_summary\",accuracy_total)\n",
    "        \n",
    "    summary_op = tf.summary.merge([loss_select_summary,loss_move_summary,loss_summary\n",
    "                                  ,acc_select_summary,acc_move_summary,acc_summary])\n",
    "    \n",
    "    test_select,test_select_summary = get_scatter(\"test_select_loss\")\n",
    "    test_move,test_move_summary = get_scatter(\"test_move_loss\")\n",
    "    test_total,test_total_summary = get_scatter(\"test_total_loss\")\n",
    "    test_selectacc,test_selectacc_summary = get_scatter(\"test_select_acc\")\n",
    "    test_moveacc,test_moveacc_summary = get_scatter(\"test_move_acc\")\n",
    "    test_totalacc,test_totalacc_summary = get_scatter(\"test_total_acc\")\n",
    "    \n",
    "    test_summary_op = tf.summary.merge([test_select_summary,test_move_summary,test_total_summary\n",
    "                                       ,test_selectacc_summary,test_moveacc_summary,test_totalacc_summary])\n",
    "    \n",
    "    update_ops = tf.get_collection(tf.GraphKeys.UPDATE_OPS)\n",
    "    with tf.control_dependencies(update_ops):\n",
    "        optimizer = tf.train.MomentumOptimizer(learning_rate=learning_rate,momentum=0.9)\n",
    "        train_op = optimizer.minimize(loss,global_step=global_step)\n",
    "\n",
    "    train_summary_writer = tf.summary.FileWriter(\"./log/{}_train\".format(model_name), sess.graph)"
   ]
  },
  {
   "cell_type": "code",
   "execution_count": 13,
   "metadata": {},
   "outputs": [
    {
     "data": {
      "text/plain": [
       "0"
      ]
     },
     "execution_count": 13,
     "metadata": {},
     "output_type": "execute_result"
    }
   ],
   "source": [
    "sess.run(tf.global_variables_initializer())\n",
    "tf.train.global_step(sess, global_step)"
   ]
  },
  {
   "cell_type": "code",
   "execution_count": 14,
   "metadata": {
    "collapsed": true
   },
   "outputs": [],
   "source": [
    "??tflearn.layers.residual_block"
   ]
  },
  {
   "cell_type": "code",
   "execution_count": 15,
   "metadata": {
    "collapsed": true
   },
   "outputs": [],
   "source": [
    "import os\n",
    "if not os.path.exists(\"models/{}\".format(model_name)):\n",
    "    os.mkdir(\"models/{}\".format(model_name))"
   ]
  },
  {
   "cell_type": "code",
   "execution_count": 16,
   "metadata": {
    "collapsed": true
   },
   "outputs": [],
   "source": [
    "N_BATCH = 10000\n",
    "N_BATCH_TEST = 300"
   ]
  },
  {
   "cell_type": "code",
   "execution_count": null,
   "metadata": {},
   "outputs": [
    {
     "name": "stdout",
     "output_type": "stream",
     "text": [
      "EPOCH 5 STEP 9999 LR 0.1 ACC 44.25 SELACC56.08 MOVACC78.9 LOSS 1.75  100.00 % [==================================================>] 2560000/2560000 \t used:2935s eta:0 sss eta:0 s\n",
      "validating epoch 5 batch 9999 100.00 % [==================================================>] 76800/76800 \t used:62s eta:0 sTEST ACC 0.4138519763946533 SELACC 0.5354427099227905 MOVACC 0.7727473974227905 LOSS 1.8735026121139526\n",
      "\n",
      "EPOCH 6 STEP 9999 LR 0.1 ACC 44.15 SELACC56.22 MOVACC78.5 LOSS 1.77  100.00 % [==================================================>] 2560000/2560000 \t used:5589s eta:0 ssss\n",
      "validating epoch 6 batch 9999 100.00 % [==================================================>] 76800/76800 \t used:61s eta:0 sTEST ACC 0.4266248047351837 SELACC 0.5482291579246521 MOVACC 0.7781640887260437 LOSS 1.8212320804595947\n",
      "\n",
      "EPOCH 7 STEP 9999 LR 0.1 ACC 45.74 SELACC57.11 MOVACC80.13 LOSS 1.67  100.00 % [==================================================>] 2560000/2560000 \t used:5568s eta:0 sss\n",
      "validating epoch 7 batch 9999 100.00 % [==================================================>] 76800/76800 \t used:61s eta:0 sTEST ACC 0.43170225620269775 SELACC 0.5518229007720947 MOVACC 0.7823437452316284 LOSS 1.7979278564453125\n",
      "\n",
      "EPOCH 8 STEP 6205 LR 0.1 ACC 45.65 SELACC56.92 MOVACC80.19 LOSS 1.69  62.06 % [===============================>-------------------] 1588736/2560000 \t used:3456s eta:2113 s"
     ]
    }
   ],
   "source": [
    "restore = True\n",
    "N_EPOCH = 100\n",
    "DECAY_EPOCH = 40\n",
    "\n",
    "class ExpVal:\n",
    "    def __init__(self,exp_a=0.97):\n",
    "        self.val = None\n",
    "        self.exp_a = exp_a\n",
    "    def update(self,newval):\n",
    "        if self.val == None:\n",
    "            self.val = newval\n",
    "        else:\n",
    "            self.val = self.exp_a * self.val + (1 - self.exp_a) * newval\n",
    "    def getval(self):\n",
    "        return round(self.val,2)\n",
    "    \n",
    "expacc = ExpVal()\n",
    "expacc_select = ExpVal()\n",
    "expacc_move = ExpVal()\n",
    "exploss = ExpVal()\n",
    "\n",
    "\n",
    "begining_learning_rate = 1e-1\n",
    "\n",
    "pred_image = None\n",
    "if restore == False:\n",
    "    train_epoch = 1\n",
    "    train_batch = 0\n",
    "for one_epoch in range(train_epoch,N_EPOCH):\n",
    "    train_epoch = one_epoch\n",
    "    pb = ProgressBar(worksum=N_BATCH * BATCH_SIZE,info=\" epoch {} batch {}\".format(train_epoch,train_batch))\n",
    "    pb.startjob()\n",
    "    \n",
    "    for one_batch in range(N_BATCH):\n",
    "        if restore == True and one_batch < train_batch:\n",
    "            pb.auto_display = False\n",
    "            pb.complete(BATCH_SIZE)\n",
    "            pb.auto_display = True\n",
    "            continue\n",
    "        else:\n",
    "            restore = False\n",
    "        train_batch = one_batch\n",
    "        \n",
    "        batch_x1,batch_y1,batch_x2,batch_y2 = trainflow.next()['data']\n",
    "        # learning rate decay strategy\n",
    "        batch_lr = begining_learning_rate * 10 ** -(one_epoch // DECAY_EPOCH)\n",
    "        \n",
    "        _,step_loss,step_acc_move,step_acc_select,step_acc_total,step_value,step_summary = sess.run(\n",
    "            [train_op,loss,accuracy_move,accuracy_select,accuracy_total,global_step,summary_op],feed_dict={\n",
    "                X1:batch_x1,y1:batch_y1,X2:batch_x2,y2:batch_y2,learning_rate:batch_lr,training:True\n",
    "            })\n",
    "        train_summary_writer.add_summary(step_summary,step_value)\n",
    "        step_acc_move *= 100\n",
    "        step_acc_select *= 100\n",
    "        step_acc_total *= 100\n",
    "        expacc.update(step_acc_total)\n",
    "        expacc_select.update(step_acc_select)\n",
    "        expacc_move.update(step_acc_move)\n",
    "        exploss.update(step_loss)\n",
    "\n",
    "       \n",
    "        pb.info = \"EPOCH {} STEP {} LR {} ACC {} SELACC{} MOVACC{} LOSS {} \".format(\n",
    "            one_epoch,one_batch,batch_lr,expacc.getval()\n",
    "            ,expacc_select.getval(),expacc_move.getval(),exploss.getval())\n",
    "        \n",
    "        pb.complete(BATCH_SIZE)\n",
    "    print()\n",
    "    accs = []\n",
    "    accselects = []\n",
    "    accmoves = []\n",
    "    losses = []\n",
    "    lossselects = []\n",
    "    lossmoves = []\n",
    "    pb = ProgressBar(worksum=N_BATCH_TEST * BATCH_SIZE,info=\"validating epoch {} batch {}\".format(train_epoch,train_batch))\n",
    "    pb.startjob()\n",
    "    for one_batch in range(N_BATCH_TEST):\n",
    "        batch_x1,batch_y1,batch_x2,batch_y2 = testflow.next()['data']\n",
    "        step_loss_move,step_loss_select,step_loss,step_accuracy_move,step_accuracy_select,step_accuracy_total = sess.run(\n",
    "            [loss_move,loss_select,loss,accuracy_move,accuracy_select,accuracy_total],feed_dict={\n",
    "                X1:batch_x1,y1:batch_y1,X2:batch_x2,y2:batch_y2,training:False\n",
    "            })\n",
    "        accs.append(step_accuracy_total)\n",
    "        accselects.append(step_accuracy_select)\n",
    "        accmoves.append(step_accuracy_move)\n",
    "        losses.append(step_loss)\n",
    "        lossselects.append(step_loss_select)\n",
    "        lossmoves.append(step_loss_move)\n",
    "        \n",
    "        pb.complete(BATCH_SIZE)\n",
    "    print(\"TEST ACC {} SELACC {} MOVACC {} LOSS {}\".format(np.average(accs),np.average(accselects)\n",
    "                                                           ,np.average(accmoves),np.average(losses)))\n",
    "    #test_select_summary,test_move_summary,test_total_summary\n",
    "    #                                   ,test_selectacc_summary,test_moveacc_summary,test_totalacc_summary\n",
    "    test_to_add_to_log = sess.run(test_summary_op,feed_dict={\n",
    "        test_select:np.average(lossselects),test_move:np.average(lossmoves),test_total:np.average(losses)\n",
    "        ,test_selectacc:np.average(accselects),test_moveacc:np.average(accmoves),test_totalacc:np.average(accs)\n",
    "    })\n",
    "    train_summary_writer.add_summary(test_to_add_to_log,step_value)\n",
    "    print()\n",
    "    saver = tf.train.Saver(var_list=tf.global_variables())\n",
    "    saver.save(sess,\"models/{}/model_{}\".format(model_name,one_epoch))"
   ]
  },
  {
   "cell_type": "code",
   "execution_count": null,
   "metadata": {
    "collapsed": true
   },
   "outputs": [],
   "source": []
  }
 ],
 "metadata": {
  "anaconda-cloud": {},
  "kernelspec": {
   "display_name": "Python [conda root]",
   "language": "python",
   "name": "conda-root-py"
  },
  "language_info": {
   "codemirror_mode": {
    "name": "ipython",
    "version": 3
   },
   "file_extension": ".py",
   "mimetype": "text/x-python",
   "name": "python",
   "nbconvert_exporter": "python",
   "pygments_lexer": "ipython3",
   "version": "3.5.2"
  }
 },
 "nbformat": 4,
 "nbformat_minor": 1
}
