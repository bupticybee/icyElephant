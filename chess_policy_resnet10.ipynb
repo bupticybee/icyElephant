{
 "cells": [
  {
   "cell_type": "code",
   "execution_count": 1,
   "metadata": {},
   "outputs": [
    {
     "name": "stdout",
     "output_type": "stream",
     "text": [
      "curses is not supported on this machine (please install/reinstall curses for an optimal experience)\n"
     ]
    }
   ],
   "source": [
    "%reload_ext autoreload \n",
    "%autoreload 2\n",
    "from cchess import *\n",
    "import tensorflow as tf\n",
    "import numpy as np\n",
    "from matplotlib import pyplot as plt\n",
    "import random \n",
    "import time\n",
    "from utils import Dataset,ProgressBar\n",
    "from tflearn.data_flow import DataFlow,DataFlowStatus,FeedDictFlow\n",
    "from tflearn.data_utils import Preloader,ImagePreloader\n",
    "import scipy\n",
    "import pandas as pd\n",
    "import xmltodict\n",
    "from game_convert import convert_game\n",
    "import tflearn"
   ]
  },
  {
   "cell_type": "markdown",
   "metadata": {},
   "source": [
    "# a network predict select and move of Chinese chess, with minimal preprocessing"
   ]
  },
  {
   "cell_type": "code",
   "execution_count": 2,
   "metadata": {
    "collapsed": true
   },
   "outputs": [],
   "source": [
    "GPU_CORE = 0\n",
    "BATCH_SIZE = 128\n",
    "BEGINING_LR = 0.01\n",
    "#TESTIMG_WIDTH = 500\n",
    "model_name = '11_10_resnet20'\n",
    "data_dir = 'data/imsa-cbf/'"
   ]
  },
  {
   "cell_type": "code",
   "execution_count": 3,
   "metadata": {
    "collapsed": true
   },
   "outputs": [],
   "source": [
    "class ElePreloader(object):\n",
    "    def __init__(self,datafile,batch_size=64):\n",
    "        self.batch_size=batch_size\n",
    "        content = pd.read_csv(datafile,header=None,index_col=None)\n",
    "        self.filelist = [i[0] for i in content.get_values()]\n",
    "        self.pos = 0\n",
    "        self.feature_list = {\"red\":['A', 'B', 'C', 'K', 'N', 'P', 'R']\n",
    "                             ,\"black\":['a', 'b', 'c', 'k', 'n', 'p', 'r']}\n",
    "        self.batch_size = batch_size\n",
    "        self.batch_iter = self.__iter()\n",
    "        assert(len(self.filelist) > batch_size)\n",
    "        self.game_iterlist = [None for i in self.filelist]\n",
    "    \n",
    "    def __iter(self):\n",
    "        retx1,rety1,retx2,rety2 = [],[],[],[]\n",
    "        filelist = []\n",
    "        while True:\n",
    "            for i in range(self.batch_size):\n",
    "                if self.game_iterlist[i] == None:\n",
    "                    if len(filelist) == 0:\n",
    "                        filelist = copy.copy(self.filelist)\n",
    "                        random.shuffle(filelist)\n",
    "                    self.game_iterlist[i] = convert_game(filelist.pop(),feature_list=self.feature_list)\n",
    "                game_iter = self.game_iterlist[i]\n",
    "                \n",
    "                try:\n",
    "                    x1,y1,x2,y2 = game_iter.__next__()\n",
    "                    x1 = np.transpose(x1,[1,2,0])\n",
    "                    x2 = np.transpose(x2,[1,2,0])\n",
    "                    x1 = np.expand_dims(x1,axis=0)\n",
    "                    x2 = np.expand_dims(x2,axis=0)\n",
    "                    retx1.append(x1)\n",
    "                    rety1.append(y1)\n",
    "                    retx2.append(x2)\n",
    "                    rety2.append(y2)\n",
    "                    if len(retx1) >= self.batch_size:\n",
    "                        yield (np.concatenate(retx1,axis=0),np.asarray(rety1)\n",
    "                               ,np.concatenate(retx2,axis=0),np.asarray(rety2))\n",
    "                        retx1,rety1,retx2,rety2 = [],[],[],[]\n",
    "                except :\n",
    "                    self.game_iterlist[i] = None\n",
    "\n",
    "    def __getitem__(self, id):\n",
    "        \n",
    "        x1,y1,x2,y2 = self.batch_iter.__next__()\n",
    "        return x1,y1,x2,y2\n",
    "        \n",
    "    def __len__(self):\n",
    "        return 10000"
   ]
  },
  {
   "cell_type": "code",
   "execution_count": 4,
   "metadata": {
    "collapsed": true
   },
   "outputs": [],
   "source": [
    "trainset = ElePreloader(datafile='data/train_list.csv',batch_size=BATCH_SIZE)\n",
    "with tf.device(\"/gpu:{}\".format(GPU_CORE)):\n",
    "    coord = tf.train.Coordinator()\n",
    "    trainflow = FeedDictFlow({\n",
    "            'data':trainset,\n",
    "        },coord,batch_size=BATCH_SIZE,shuffle=True,continuous=True,num_threads=1)\n",
    "trainflow.start()"
   ]
  },
  {
   "cell_type": "code",
   "execution_count": 5,
   "metadata": {
    "collapsed": true
   },
   "outputs": [],
   "source": [
    "testset = ElePreloader(datafile='data/test_list.csv',batch_size=BATCH_SIZE)\n",
    "with tf.device(\"/gpu:{}\".format(GPU_CORE)):\n",
    "    coord = tf.train.Coordinator()\n",
    "    testflow = FeedDictFlow({\n",
    "            'data':testset,\n",
    "        },coord,batch_size=BATCH_SIZE,shuffle=True,continuous=True,num_threads=1)\n",
    "testflow.start()"
   ]
  },
  {
   "cell_type": "code",
   "execution_count": 6,
   "metadata": {
    "collapsed": true
   },
   "outputs": [],
   "source": [
    "sample_x1,sample_y1,sample_x2,sample_y2 = trainflow.next()['data']"
   ]
  },
  {
   "cell_type": "code",
   "execution_count": 7,
   "metadata": {
    "collapsed": true
   },
   "outputs": [],
   "source": [
    "sample_x1,sample_y1,sample_x2,sample_y2 = testflow.next()['data']"
   ]
  },
  {
   "cell_type": "code",
   "execution_count": 8,
   "metadata": {},
   "outputs": [
    {
     "data": {
      "text/plain": [
       "((128, 10, 9, 14), (128, 10, 9), (128, 10, 9, 15), (128, 10, 9))"
      ]
     },
     "execution_count": 8,
     "metadata": {},
     "output_type": "execute_result"
    }
   ],
   "source": [
    "sample_x1.shape,sample_y1.shape,sample_x2.shape,sample_y2.shape"
   ]
  },
  {
   "cell_type": "code",
   "execution_count": 9,
   "metadata": {},
   "outputs": [
    {
     "data": {
      "text/plain": [
       "array([[ 1.,  1.,  1.,  1.,  1.,  1.,  1.,  1.,  1.],\n",
       "       [ 0.,  0.,  0.,  0.,  0.,  0.,  0.,  0.,  0.],\n",
       "       [ 0.,  1.,  0.,  0.,  0.,  0.,  0.,  1.,  0.],\n",
       "       [ 1.,  0.,  1.,  0.,  1.,  0.,  1.,  0.,  1.],\n",
       "       [ 0.,  0.,  0.,  0.,  0.,  0.,  0.,  0.,  0.],\n",
       "       [ 0.,  0.,  0.,  0.,  0.,  0.,  0.,  0.,  0.],\n",
       "       [ 1.,  0.,  2.,  0.,  1.,  0.,  1.,  0.,  1.],\n",
       "       [ 0.,  1.,  0.,  0.,  0.,  0.,  0.,  1.,  0.],\n",
       "       [ 0.,  0.,  0.,  0.,  0.,  0.,  0.,  0.,  0.],\n",
       "       [ 1.,  1.,  1.,  1.,  1.,  1.,  1.,  1.,  1.]])"
      ]
     },
     "execution_count": 9,
     "metadata": {},
     "output_type": "execute_result"
    }
   ],
   "source": [
    "np.sum(sample_x2[0],axis=-1)"
   ]
  },
  {
   "cell_type": "code",
   "execution_count": 10,
   "metadata": {},
   "outputs": [
    {
     "data": {
      "text/plain": [
       "(10, 9)"
      ]
     },
     "execution_count": 10,
     "metadata": {},
     "output_type": "execute_result"
    }
   ],
   "source": [
    "np.sum(sample_x1[0],axis=-1).shape"
   ]
  },
  {
   "cell_type": "code",
   "execution_count": 11,
   "metadata": {
    "collapsed": true
   },
   "outputs": [],
   "source": [
    "def res_block(inputx,name,training,block_num=2,filters=256,kernel_size=(3,3)):\n",
    "    net = inputx\n",
    "    for i in range(block_num):\n",
    "        net = tf.layers.conv2d(net,filters=filters,kernel_size=kernel_size,activation=None,name=\"{}_res_conv{}\".format(name,i),padding='same')\n",
    "        net = tf.layers.batch_normalization(net,training=training,name=\"{}_res_bn{}\".format(name,i))\n",
    "        if i == block_num - 1:\n",
    "            net = net + inputx #= tf.concat((inputx,net),axis=-1)\n",
    "        net = tf.nn.elu(net,name=\"{}_res_elu{}\".format(name,i))\n",
    "    return net\n",
    "\n",
    "def conv_block(inputx,name,training,block_num=1,filters=2,kernel_size=(1,1)):\n",
    "    net = inputx\n",
    "    for i in range(block_num):\n",
    "        net = tf.layers.conv2d(net,filters=filters,kernel_size=kernel_size,activation=None,name=\"{}_convblock_conv{}\".format(name,i),padding='same')\n",
    "        net = tf.layers.batch_normalization(net,training=training,name=\"{}_convblock_bn{}\".format(name,i))\n",
    "        net = tf.nn.elu(net,name=\"{}_convblock_elu{}\".format(name,i))\n",
    "    # net [None,10,9,2]\n",
    "    netshape = net.get_shape().as_list()\n",
    "    print(\"inside conv block {}\".format(str(netshape)))\n",
    "    net = tf.reshape(net,shape=(-1,netshape[1] * netshape[2] * netshape[3]))\n",
    "    net = tf.layers.dense(net,10 * 9,name=\"{}_dense\".format(name))\n",
    "    net = tf.nn.elu(net,name=\"{}_elu\".format(name))\n",
    "    return net\n",
    "\n",
    "def res_net_board(inputx,name,training,filters=256):\n",
    "    net = inputx\n",
    "    net = tf.layers.conv2d(net,filters=filters,kernel_size=(3,3),activation=None,name=\"{}_res_convb\".format(name),padding='same')\n",
    "    net = tf.layers.batch_normalization(net,training=training,name=\"{}_res_bnb\".format(name))\n",
    "    net = tf.nn.elu(net,name=\"{}_res_elub\".format(name))\n",
    "    for i in range(NUM_RES_LAYERS):\n",
    "        net = res_block(net,name=\"{}_layer_{}\".format(name,i + 1),training=training)\n",
    "        print(net.get_shape().as_list())\n",
    "    print(\"inside res net {}\".format(str(net.get_shape().as_list())))\n",
    "    net_unsoftmax = conv_block(net,name=\"{}_conv\".format(name),training=training)\n",
    "    return net_unsoftmax\n",
    "\n",
    "def get_scatter(name):\n",
    "    with tf.variable_scope(\"Test\"):\n",
    "        ph = tf.placeholder(tf.float32,name=name)\n",
    "        op = tf.summary.scalar(name,ph)\n",
    "    return ph,op"
   ]
  },
  {
   "cell_type": "code",
   "execution_count": 12,
   "metadata": {},
   "outputs": [
    {
     "name": "stdout",
     "output_type": "stream",
     "text": [
      "[None, 10, 9, 256]\n",
      "[None, 10, 9, 256]\n",
      "[None, 10, 9, 256]\n",
      "[None, 10, 9, 256]\n",
      "[None, 10, 9, 256]\n",
      "[None, 10, 9, 256]\n",
      "[None, 10, 9, 256]\n",
      "[None, 10, 9, 256]\n",
      "[None, 10, 9, 256]\n",
      "[None, 10, 9, 256]\n",
      "[None, 10, 9, 256]\n",
      "[None, 10, 9, 256]\n",
      "[None, 10, 9, 256]\n",
      "[None, 10, 9, 256]\n",
      "[None, 10, 9, 256]\n",
      "[None, 10, 9, 256]\n",
      "[None, 10, 9, 256]\n",
      "[None, 10, 9, 256]\n",
      "[None, 10, 9, 256]\n",
      "[None, 10, 9, 256]\n",
      "inside res net [None, 10, 9, 256]\n",
      "inside conv block [None, 10, 9, 2]\n",
      "[None, 10, 9, 256]\n",
      "[None, 10, 9, 256]\n",
      "[None, 10, 9, 256]\n",
      "[None, 10, 9, 256]\n",
      "[None, 10, 9, 256]\n",
      "[None, 10, 9, 256]\n",
      "[None, 10, 9, 256]\n",
      "[None, 10, 9, 256]\n",
      "[None, 10, 9, 256]\n",
      "[None, 10, 9, 256]\n",
      "[None, 10, 9, 256]\n",
      "[None, 10, 9, 256]\n",
      "[None, 10, 9, 256]\n",
      "[None, 10, 9, 256]\n",
      "[None, 10, 9, 256]\n",
      "[None, 10, 9, 256]\n",
      "[None, 10, 9, 256]\n",
      "[None, 10, 9, 256]\n",
      "[None, 10, 9, 256]\n",
      "[None, 10, 9, 256]\n",
      "inside res net [None, 10, 9, 256]\n",
      "inside conv block [None, 10, 9, 2]\n"
     ]
    }
   ],
   "source": [
    "tf.reset_default_graph()\n",
    "config = tf.ConfigProto()\n",
    "config.gpu_options.allow_growth = True\n",
    "config.allow_soft_placement = True\n",
    "sess = tf.Session(config=config)\n",
    "\n",
    "NUM_RES_LAYERS = 20\n",
    "\n",
    "with tf.device(\"/gpu:{}\".format(GPU_CORE)):\n",
    "    X1 = tf.placeholder(tf.float32,[None,10,9,14])\n",
    "    y1 = tf.placeholder(tf.float32,[None,10,9])\n",
    "    X2 = tf.placeholder(tf.float32,[None,10,9,15])\n",
    "    y2 = tf.placeholder(tf.float32,[None,10,9])\n",
    "    \n",
    "    training = tf.placeholder(tf.bool,name='training_mode')\n",
    "    learning_rate = tf.placeholder(tf.float32)\n",
    "    global_step = tf.train.get_or_create_global_step()\n",
    "    \n",
    "    net_unsoftmax1 = res_net_board(X1,\"selectnet\",training=training)\n",
    "    net_unsoftmax2 = res_net_board(X2,\"movenet\",training=training)\n",
    "    \n",
    "    target1 = tf.reshape(y1,(-1,10 * 9))\n",
    "    target2 = tf.reshape(y2,(-1,10 * 9))\n",
    "    with tf.variable_scope(\"Loss\"):\n",
    "        loss_select = tf.reduce_mean(tf.nn.softmax_cross_entropy_with_logits(labels=target1,logits=net_unsoftmax1))\n",
    "        loss_move = tf.reduce_mean(tf.nn.softmax_cross_entropy_with_logits(labels=target2,logits=net_unsoftmax2))\n",
    "        loss = loss_select + loss_move\n",
    "        \n",
    "        loss_select_summary = tf.summary.scalar(\"loss_select\",loss_select)\n",
    "        loss_move_summary = tf.summary.scalar(\"loss_move\",loss_move)\n",
    "        loss_summary = tf.summary.scalar(\"total_loss\",loss)\n",
    "    net_softmax1 = tf.nn.softmax(net_unsoftmax1)\n",
    "    net_softmax2 = tf.nn.softmax(net_unsoftmax2)\n",
    "    \n",
    "    correct_prediction1 = tf.equal(tf.argmax(target1,1), tf.argmax(net_softmax1,1))\n",
    "    correct_prediction2 = tf.equal(tf.argmax(target2,1), tf.argmax(net_softmax2,1))\n",
    "    \n",
    "    with tf.variable_scope(\"Accuracy\"):\n",
    "        accuracy_select = tf.reduce_mean(tf.cast(correct_prediction1, tf.float32))\n",
    "        accuracy_move = tf.reduce_mean(tf.cast(correct_prediction2, tf.float32))\n",
    "        accuracy_total = accuracy_select * accuracy_move\n",
    "        \n",
    "        acc_select_summary = tf.summary.scalar(\"accuracy_select\",accuracy_select)\n",
    "        acc_move_summary = tf.summary.scalar(\"accuracy_move\",accuracy_move)\n",
    "        acc_summary = tf.summary.scalar(\"acc_summary\",accuracy_total)\n",
    "        \n",
    "    summary_op = tf.summary.merge([loss_select_summary,loss_move_summary,loss_summary\n",
    "                                  ,acc_select_summary,acc_move_summary,acc_summary])\n",
    "    \n",
    "    test_select,test_select_summary = get_scatter(\"test_select_loss\")\n",
    "    test_move,test_move_summary = get_scatter(\"test_move_loss\")\n",
    "    test_total,test_total_summary = get_scatter(\"test_total_loss\")\n",
    "    test_selectacc,test_selectacc_summary = get_scatter(\"test_select_acc\")\n",
    "    test_moveacc,test_moveacc_summary = get_scatter(\"test_move_acc\")\n",
    "    test_totalacc,test_totalacc_summary = get_scatter(\"test_total_acc\")\n",
    "    \n",
    "    test_summary_op = tf.summary.merge([test_select_summary,test_move_summary,test_total_summary\n",
    "                                       ,test_selectacc_summary,test_moveacc_summary,test_totalacc_summary])\n",
    "    \n",
    "    update_ops = tf.get_collection(tf.GraphKeys.UPDATE_OPS)\n",
    "    with tf.control_dependencies(update_ops):\n",
    "        optimizer = tf.train.MomentumOptimizer(learning_rate=learning_rate,momentum=0.9)\n",
    "        train_op = optimizer.minimize(loss,global_step=global_step)\n",
    "\n",
    "    train_summary_writer = tf.summary.FileWriter(\"./log/{}_train\".format(model_name), sess.graph)"
   ]
  },
  {
   "cell_type": "code",
   "execution_count": 13,
   "metadata": {},
   "outputs": [
    {
     "data": {
      "text/plain": [
       "0"
      ]
     },
     "execution_count": 13,
     "metadata": {},
     "output_type": "execute_result"
    }
   ],
   "source": [
    "sess.run(tf.global_variables_initializer())\n",
    "tf.train.global_step(sess, global_step)"
   ]
  },
  {
   "cell_type": "code",
   "execution_count": null,
   "metadata": {
    "collapsed": true
   },
   "outputs": [],
   "source": [
    "saver = tf.train.Saver()\n",
    "saver.restore('')"
   ]
  },
  {
   "cell_type": "code",
   "execution_count": 14,
   "metadata": {
    "collapsed": true
   },
   "outputs": [],
   "source": [
    "??tflearn.layers.residual_block"
   ]
  },
  {
   "cell_type": "code",
   "execution_count": 15,
   "metadata": {
    "collapsed": true
   },
   "outputs": [],
   "source": [
    "import os\n",
    "if not os.path.exists(\"models/{}\".format(model_name)):\n",
    "    os.mkdir(\"models/{}\".format(model_name))"
   ]
  },
  {
   "cell_type": "code",
   "execution_count": 13,
   "metadata": {
    "collapsed": true
   },
   "outputs": [],
   "source": [
    "N_BATCH = 10000\n",
    "N_BATCH_TEST = 300"
   ]
  },
  {
   "cell_type": "code",
   "execution_count": null,
   "metadata": {},
   "outputs": [
    {
     "name": "stdout",
     "output_type": "stream",
     "text": [
      "EPOCH 4 STEP 9999 LR 0.1 ACC 37.91 SELACC50.97 MOVACC74.31 LOSS 2.04  100.00 % [==================================================>] 1280000/1280000 \t used:5116s eta:0 sssta:3 s\n",
      "validating epoch 4 batch 9999 100.00 % [==================================================>] 38400/38400 \t used:56s eta:0 sTEST ACC 0.37187865376472473 SELACC 0.4970833361148834 MOVACC 0.7481250166893005 LOSS 2.0635979175567627\n",
      "\n",
      "EPOCH 5 STEP 9999 LR 0.1 ACC 39.76 SELACC51.82 MOVACC76.81 LOSS 1.94  100.00 % [==================================================>] 1280000/1280000 \t used:5973s eta:0 sss\n",
      "validating epoch 5 batch 9999 100.00 % [==================================================>] 38400/38400 \t used:57s eta:0 sTEST ACC 0.3832527697086334 SELACC 0.5065624713897705 MOVACC 0.756432294845581 LOSS 2.0004265308380127\n",
      "\n",
      "EPOCH 6 STEP 9999 LR 0.1 ACC 39.75 SELACC52.38 MOVACC75.89 LOSS 1.95  100.00 % [==================================================>] 1280000/1280000 \t used:5978s eta:0 sss\n",
      "validating epoch 6 batch 9999 100.00 % [==================================================>] 38400/38400 \t used:57s eta:0 sTEST ACC 0.3966975808143616 SELACC 0.5203645825386047 MOVACC 0.762682318687439 LOSS 1.9344730377197266\n",
      "\n",
      "EPOCH 7 STEP 9999 LR 0.1 ACC 41.98 SELACC53.59 MOVACC78.26 LOSS 1.82  100.00 % [==================================================>] 1280000/1280000 \t used:6027s eta:0 sss\n",
      "validating epoch 7 batch 9999 100.00 % [==================================================>] 38400/38400 \t used:57s eta:0 sTEST ACC 0.4018261730670929 SELACC 0.5230468511581421 MOVACC 0.7682552337646484 LOSS 1.9216532707214355\n",
      "\n",
      "EPOCH 8 STEP 9999 LR 0.1 ACC 43.19 SELACC54.8 MOVACC78.83 LOSS 1.81  100.00 % [==================================================>] 1280000/1280000 \t used:6032s eta:0 ssss\n",
      "validating epoch 8 batch 9999 100.00 % [==================================================>] 38400/38400 \t used:57s eta:0 sTEST ACC 0.40728169679641724 SELACC 0.5281510353088379 MOVACC 0.7710676789283752 LOSS 1.8757197856903076\n",
      "\n",
      "EPOCH 9 STEP 9999 LR 0.1 ACC 42.17 SELACC53.63 MOVACC78.66 LOSS 1.81  100.00 % [==================================================>] 1280000/1280000 \t used:6043s eta:0 sss\n",
      "validating epoch 9 batch 9999 100.00 % [==================================================>] 38400/38400 \t used:58s eta:0 sTEST ACC 0.4144132435321808 SELACC 0.5327343940734863 MOVACC 0.7778645753860474 LOSS 1.8522627353668213\n",
      "\n",
      "EPOCH 10 STEP 9999 LR 0.1 ACC 44.62 SELACC55.95 MOVACC79.76 LOSS 1.75  100.00 % [==================================================>] 1280000/1280000 \t used:6039s eta:0 sss\n",
      "validating epoch 10 batch 9999 100.00 % [==================================================>] 38400/38400 \t used:58s eta:0 sTEST ACC 0.42054483294487 SELACC 0.5392968654632568 MOVACC 0.7797135710716248 LOSS 1.83324134349823\n",
      "\n",
      "EPOCH 11 STEP 9999 LR 0.1 ACC 44.7 SELACC56.47 MOVACC79.14 LOSS 1.73  100.00 % [==================================================>] 1280000/1280000 \t used:6063s eta:0 ssss\n",
      "validating epoch 11 batch 9999 100.00 % [==================================================>] 38400/38400 \t used:58s eta:0 sTEST ACC 0.4243392050266266 SELACC 0.5401041507720947 MOVACC 0.7860156297683716 LOSS 1.8043454885482788\n",
      "\n",
      "EPOCH 12 STEP 9999 LR 0.1 ACC 45.41 SELACC56.44 MOVACC80.48 LOSS 1.69  100.00 % [==================================================>] 1280000/1280000 \t used:6054s eta:0 sss\n",
      "validating epoch 12 batch 9999 100.00 % [==================================================>] 38400/38400 \t used:58s eta:0 sTEST ACC 0.42744648456573486 SELACC 0.5429427027702332 MOVACC 0.7873697876930237 LOSS 1.794417142868042\n",
      "\n",
      "EPOCH 13 STEP 9999 LR 0.1 ACC 46.29 SELACC57.16 MOVACC80.97 LOSS 1.64  100.00 % [==================================================>] 1280000/1280000 \t used:6057s eta:0 sss\n",
      "validating epoch 13 batch 9999 100.00 % [==================================================>] 38400/38400 \t used:58s eta:0 sTEST ACC 0.4333646595478058 SELACC 0.5483333468437195 MOVACC 0.7902864813804626 LOSS 1.7921174764633179\n",
      "\n",
      "EPOCH 14 STEP 9999 LR 0.1 ACC 46.88 SELACC57.84 MOVACC81.03 LOSS 1.64  100.00 % [==================================================>] 1280000/1280000 \t used:6061s eta:0 sss\n",
      "validating epoch 14 batch 9999 100.00 % [==================================================>] 38400/38400 \t used:58s eta:0 sTEST ACC 0.4372851550579071 SELACC 0.5528905987739563 MOVACC 0.7907552123069763 LOSS 1.7694722414016724\n",
      "\n",
      "EPOCH 15 STEP 9999 LR 0.1 ACC 45.78 SELACC56.97 MOVACC80.41 LOSS 1.69  100.00 % [==================================================>] 1280000/1280000 \t used:6083s eta:0 sss\n",
      "validating epoch 15 batch 9999 100.00 % [==================================================>] 38400/38400 \t used:59s eta:0 sTEST ACC 0.4388517141342163 SELACC 0.5572395920753479 MOVACC 0.7875781059265137 LOSS 1.7672456502914429\n",
      "\n",
      "EPOCH 16 STEP 9999 LR 0.1 ACC 49.16 SELACC59.68 MOVACC82.4 LOSS 1.54  100.00 % [==================================================>] 1280000/1280000 \t used:6066s eta:0 ssss\n",
      "validating epoch 16 batch 9999 100.00 % [==================================================>] 38400/38400 \t used:58s eta:0 sTEST ACC 0.4428149461746216 SELACC 0.5569010376930237 MOVACC 0.7954166531562805 LOSS 1.7690815925598145\n",
      "\n",
      "EPOCH 17 STEP 9999 LR 0.1 ACC 48.17 SELACC58.49 MOVACC82.39 LOSS 1.58  100.00 % [==================================================>] 1280000/1280000 \t used:6075s eta:0 sss\n",
      "validating epoch 17 batch 9999 100.00 % [==================================================>] 38400/38400 \t used:59s eta:0 sTEST ACC 0.4488498866558075 SELACC 0.5652083158493042 MOVACC 0.7941666841506958 LOSS 1.7455531358718872\n",
      "\n",
      "EPOCH 18 STEP 9999 LR 0.1 ACC 47.87 SELACC57.55 MOVACC83.21 LOSS 1.59  100.00 % [==================================================>] 1280000/1280000 \t used:6073s eta:0 sss\n",
      "validating epoch 18 batch 9999 100.00 % [==================================================>] 38400/38400 \t used:59s eta:0 sTEST ACC 0.44449034333229065 SELACC 0.561536431312561 MOVACC 0.7916145920753479 LOSS 1.7613706588745117\n",
      "\n",
      "EPOCH 19 STEP 9999 LR 0.1 ACC 51.12 SELACC60.79 MOVACC84.14 LOSS 1.47  100.00 % [==================================================>] 1280000/1280000 \t used:6078s eta:0 sss\n",
      "validating epoch 19 batch 9999 100.00 % [==================================================>] 38400/38400 \t used:59s eta:0 sTEST ACC 0.4516597390174866 SELACC 0.5638541579246521 MOVACC 0.8011198043823242 LOSS 1.7461767196655273\n",
      "\n",
      "EPOCH 20 STEP 9999 LR 0.010000000000000002 ACC 57.76 SELACC65.73 MOVACC87.88 LOSS 1.24  100.00 % [==================================================>] 1280000/1280000 \t used:6086s eta:0 sss\n",
      "validating epoch 20 batch 9999 100.00 % [==================================================>] 38400/38400 \t used:59s eta:0 sTEST ACC 0.4677594006061554 SELACC 0.5783593654632568 MOVACC 0.8085416555404663 LOSS 1.718509554862976\n",
      "\n",
      "EPOCH 21 STEP 9999 LR 0.010000000000000002 ACC 56.26 SELACC64.82 MOVACC86.81 LOSS 1.31  100.00 % [==================================================>] 1280000/1280000 \t used:6096s eta:0 sss\n",
      "validating epoch 21 batch 9999 100.00 % [==================================================>] 38400/38400 \t used:59s eta:0 sTEST ACC 0.4763008654117584 SELACC 0.5873437523841858 MOVACC 0.8110677003860474 LOSS 1.6721621751785278\n",
      "\n",
      "EPOCH 22 STEP 9999 LR 0.010000000000000002 ACC 59.64 SELACC67.05 MOVACC88.93 LOSS 1.2  100.00 % [==================================================>] 1280000/1280000 \t used:6093s eta:0 ssss\n",
      "validating epoch 22 batch 9999 100.00 % [==================================================>] 38400/38400 \t used:59s eta:0 sTEST ACC 0.47684529423713684 SELACC 0.5835156440734863 MOVACC 0.817187488079071 LOSS 1.7286649942398071\n",
      "\n",
      "EPOCH 23 STEP 9999 LR 0.010000000000000002 ACC 60.72 SELACC67.99 MOVACC89.32 LOSS 1.16  100.00 % [==================================================>] 1280000/1280000 \t used:8541s eta:0 sss\n",
      "validating epoch 23 batch 9999 100.00 % [==================================================>] 38400/38400 \t used:330s eta:0 sTEST ACC 0.469180703163147 SELACC 0.5793750286102295 MOVACC 0.8098177313804626 LOSS 1.7664587497711182\n",
      "\n"
     ]
    },
    {
     "name": "stdout",
     "output_type": "stream",
     "text": [
      "EPOCH 24 STEP 9999 LR 0.010000000000000002 ACC 59.88 SELACC67.33 MOVACC88.91 LOSS 1.17  100.00 % [==================================================>] 1280000/1280000 \t used:6296s eta:0 sss\n",
      "validating epoch 24 batch 9999 100.00 % [==================================================>] 38400/38400 \t used:59s eta:0 sTEST ACC 0.46745240688323975 SELACC 0.5764062404632568 MOVACC 0.8108593821525574 LOSS 1.7763525247573853\n",
      "\n",
      "EPOCH 25 STEP 9999 LR 0.010000000000000002 ACC 60.63 SELACC67.74 MOVACC89.51 LOSS 1.14  100.00 % [==================================================>] 1280000/1280000 \t used:6111s eta:0 sss\n",
      "validating epoch 25 batch 9999 100.00 % [==================================================>] 38400/38400 \t used:59s eta:0 sTEST ACC 0.47630575299263 SELACC 0.5877864360809326 MOVACC 0.8102083206176758 LOSS 1.7922155857086182\n",
      "\n",
      "EPOCH 26 STEP 9999 LR 0.010000000000000002 ACC 63.55 SELACC70.19 MOVACC90.56 LOSS 1.09  100.00 % [==================================================>] 1280000/1280000 \t used:6105s eta:0 sss\n",
      "validating epoch 26 batch 9999 100.00 % [==================================================>] 38400/38400 \t used:59s eta:0 sTEST ACC 0.4778198301792145 SELACC 0.5864062309265137 MOVACC 0.8145833611488342 LOSS 1.8079646825790405\n",
      "\n",
      "EPOCH 27 STEP 9999 LR 0.010000000000000002 ACC 62.02 SELACC68.38 MOVACC90.71 LOSS 1.12  100.00 % [==================================================>] 1280000/1280000 \t used:6106s eta:0 sss\n",
      "validating epoch 27 batch 9999 100.00 % [==================================================>] 38400/38400 \t used:59s eta:0 sTEST ACC 0.4790329933166504 SELACC 0.5900260210037231 MOVACC 0.8120573163032532 LOSS 1.7569732666015625\n",
      "\n",
      "EPOCH 28 STEP 9999 LR 0.010000000000000002 ACC 60.73 SELACC68.14 MOVACC89.12 LOSS 1.15  100.00 % [==================================================>] 1280000/1280000 \t used:6102s eta:0 sss\n",
      "validating epoch 28 batch 9999 100.00 % [==================================================>] 38400/38400 \t used:59s eta:0 sTEST ACC 0.47255370020866394 SELACC 0.5794791579246521 MOVACC 0.8155729174613953 LOSS 1.7807015180587769\n",
      "\n",
      "EPOCH 29 STEP 9999 LR 0.010000000000000002 ACC 65.73 SELACC71.54 MOVACC91.92 LOSS 1.01  100.00 % [==================================================>] 1280000/1280000 \t used:6122s eta:0 sss\n",
      "validating epoch 29 batch 9999 100.00 % [==================================================>] 38400/38400 \t used:60s eta:0 sTEST ACC 0.47078001499176025 SELACC 0.5842447876930237 MOVACC 0.8057812452316284 LOSS 1.927342176437378\n",
      "\n",
      "EPOCH 30 STEP 9999 LR 0.010000000000000002 ACC 64.94 SELACC71.19 MOVACC91.25 LOSS 1.03  100.00 % [==================================================>] 1280000/1280000 \t used:6124s eta:0 sss\n",
      "validating epoch 30 batch 9999 100.00 % [==================================================>] 38400/38400 \t used:60s eta:0 sTEST ACC 0.47272542119026184 SELACC 0.5822916626930237 MOVACC 0.8116406202316284 LOSS 1.866815447807312\n",
      "\n",
      "EPOCH 31 STEP 9999 LR 0.010000000000000002 ACC 63.87 SELACC70.69 MOVACC90.4 LOSS 1.06  100.00 % [==================================================>] 1280000/1280000 \t used:6128s eta:0 ssss\n",
      "validating epoch 31 batch 9999 100.00 % [==================================================>] 38400/38400 \t used:60s eta:0 sTEST ACC 0.472603976726532 SELACC 0.5799999833106995 MOVACC 0.815026044845581 LOSS 1.8798205852508545\n",
      "\n",
      "EPOCH 32 STEP 9999 LR 0.010000000000000002 ACC 67.88 SELACC73.29 MOVACC92.59 LOSS 0.93  100.00 % [==================================================>] 1280000/1280000 \t used:6134s eta:0 sss\n",
      "validating epoch 32 batch 9999 100.00 % [==================================================>] 38400/38400 \t used:60s eta:0 sTEST ACC 0.4669185280799866 SELACC 0.5777603983879089 MOVACC 0.8081250190734863 LOSS 2.048804521560669\n",
      "\n",
      "EPOCH 33 STEP 9999 LR 0.010000000000000002 ACC 66.84 SELACC72.49 MOVACC92.2 LOSS 0.96  100.00 % [==================================================>] 1280000/1280000 \t used:6100s eta:0 ssss\n",
      "validating epoch 33 batch 9999 100.00 % [==================================================>] 38400/38400 \t used:60s eta:0 sTEST ACC 0.4759533703327179 SELACC 0.5883854031562805 MOVACC 0.8086979389190674 LOSS 1.9949864149093628\n",
      "\n",
      "EPOCH 34 STEP 9999 LR 0.010000000000000002 ACC 66.49 SELACC72.39 MOVACC91.83 LOSS 0.98  100.00 % [==================================================>] 1280000/1280000 \t used:6100s eta:0 sss\n",
      "validating epoch 34 batch 9999 100.00 % [==================================================>] 38400/38400 \t used:60s eta:0 sTEST ACC 0.4834655821323395 SELACC 0.5930728912353516 MOVACC 0.8153645992279053 LOSS 1.9320865869522095\n",
      "\n",
      "EPOCH 35 STEP 9999 LR 0.010000000000000002 ACC 70.99 SELACC75.97 MOVACC93.45 LOSS 0.84  100.00 % [==================================================>] 1280000/1280000 \t used:6089s eta:0 sss\n",
      "validating epoch 35 batch 9999 100.00 % [==================================================>] 38400/38400 \t used:60s eta:0 sTEST ACC 0.4695996046066284 SELACC 0.5827603936195374 MOVACC 0.805651068687439 LOSS 2.1965925693511963\n",
      "\n",
      "EPOCH 36 STEP 9999 LR 0.010000000000000002 ACC 68.89 SELACC73.92 MOVACC93.2 LOSS 0.91  100.00 % [==================================================>] 1280000/1280000 \t used:6112s eta:0 ssss\n",
      "validating epoch 36 batch 9999 100.00 % [==================================================>] 38400/38400 \t used:60s eta:0 sTEST ACC 0.47571471333503723 SELACC 0.5864322781562805 MOVACC 0.8108072876930237 LOSS 2.11336088180542\n",
      "\n",
      "EPOCH 37 STEP 9999 LR 0.010000000000000002 ACC 67.47 SELACC72.95 MOVACC92.52 LOSS 0.93  100.00 % [==================================================>] 1280000/1280000 \t used:6116s eta:0 sss\n",
      "validating epoch 37 batch 9999 100.00 % [==================================================>] 38400/38400 \t used:60s eta:0 sTEST ACC 0.4780297875404358 SELACC 0.5864843726158142 MOVACC 0.8151041865348816 LOSS 2.05242919921875\n",
      "\n",
      "EPOCH 38 STEP 9999 LR 0.010000000000000002 ACC 74.52 SELACC78.29 MOVACC95.16 LOSS 0.74  100.00 % [==================================================>] 1280000/1280000 \t used:6128s eta:0 sss\n",
      "validating epoch 38 batch 9999 100.00 % [==================================================>] 38400/38400 \t used:60s eta:0 sTEST ACC 0.46226805448532104 SELACC 0.5746614336967468 MOVACC 0.8041927218437195 LOSS 2.485936164855957\n",
      "\n",
      "EPOCH 39 STEP 9999 LR 0.010000000000000002 ACC 72.57 SELACC76.63 MOVACC94.69 LOSS 0.8  100.00 % [==================================================>] 1280000/1280000 \t used:6118s eta:0 ssss\n",
      "validating epoch 39 batch 9999 100.00 % [==================================================>] 38400/38400 \t used:60s eta:0 sTEST ACC 0.48325929045677185 SELACC 0.5929948091506958 MOVACC 0.8145052194595337 LOSS 2.2746472358703613\n",
      "\n",
      "EPOCH 40 STEP 9999 LR 0.001 ACC 75.66 SELACC79.0 MOVACC95.78 LOSS 0.71  100.00 % [==================================================>] 1280000/1280000 \t used:6116s eta:0 ssss\n",
      "validating epoch 40 batch 9999 100.00 % [==================================================>] 38400/38400 \t used:60s eta:0 sTEST ACC 0.48814982175827026 SELACC 0.5944791436195374 MOVACC 0.8205989599227905 LOSS 2.37422251701355\n",
      "\n",
      "EPOCH 41 STEP 9999 LR 0.001 ACC 82.38 SELACC84.45 MOVACC97.54 LOSS 0.52  100.00 % [==================================================>] 1280000/1280000 \t used:6137s eta:0 sss\n",
      "validating epoch 41 batch 9999 100.00 % [==================================================>] 38400/38400 \t used:61s eta:0 sTEST ACC 0.4823504686355591 SELACC 0.5936197638511658 MOVACC 0.8126562237739563 LOSS 2.7536261081695557\n",
      "\n",
      "EPOCH 42 STEP 9999 LR 0.001 ACC 80.93 SELACC82.99 MOVACC97.51 LOSS 0.55  100.00 % [==================================================>] 1280000/1280000 \t used:6124s eta:0 sss\n",
      "validating epoch 42 batch 9999 100.00 % [==================================================>] 38400/38400 \t used:60s eta:0 sTEST ACC 0.4638376832008362 SELACC 0.5773698091506958 MOVACC 0.803307294845581 LOSS 3.001113176345825\n",
      "\n",
      "EPOCH 43 STEP 9999 LR 0.001 ACC 81.39 SELACC83.65 MOVACC97.29 LOSS 0.54  100.00 % [==================================================>] 1280000/1280000 \t used:6141s eta:0 sss\n"
     ]
    },
    {
     "name": "stdout",
     "output_type": "stream",
     "text": [
      "validating epoch 43 batch 9999 100.00 % [==================================================>] 38400/38400 \t used:61s eta:0 sTEST ACC 0.49476358294487 SELACC 0.6016666889190674 MOVACC 0.8220312595367432 LOSS 2.7687110900878906\n",
      "\n",
      "EPOCH 44 STEP 9999 LR 0.001 ACC 83.68 SELACC85.58 MOVACC97.79 LOSS 0.49  100.00 % [==================================================>] 1280000/1280000 \t used:6155s eta:0 sss\n",
      "validating epoch 44 batch 9999 100.00 % [==================================================>] 38400/38400 \t used:61s eta:0 sTEST ACC 0.4853782057762146 SELACC 0.5951822996139526 MOVACC 0.8153385519981384 LOSS 3.085070848464966\n",
      "\n",
      "EPOCH 45 STEP 9999 LR 0.001 ACC 82.18 SELACC84.35 MOVACC97.43 LOSS 0.52  100.00 % [==================================================>] 1280000/1280000 \t used:6129s eta:0 sss\n",
      "validating epoch 45 batch 9999 100.00 % [==================================================>] 38400/38400 \t used:61s eta:0 sTEST ACC 0.4787493944168091 SELACC 0.5875520706176758 MOVACC 0.8146353960037231 LOSS 3.1241517066955566\n",
      "\n",
      "EPOCH 46 STEP 9999 LR 0.001 ACC 82.73 SELACC84.58 MOVACC97.81 LOSS 0.49  100.00 % [==================================================>] 1280000/1280000 \t used:6131s eta:0 sss\n",
      "validating epoch 46 batch 9999 100.00 % [==================================================>] 38400/38400 \t used:61s eta:0 sTEST ACC 0.47957804799079895 SELACC 0.5890364646911621 MOVACC 0.8141666650772095 LOSS 3.1515681743621826\n",
      "\n",
      "EPOCH 47 STEP 9999 LR 0.001 ACC 85.94 SELACC87.59 MOVACC98.12 LOSS 0.41  100.00 % [==================================================>] 1280000/1280000 \t used:6136s eta:0 sss\n",
      "validating epoch 47 batch 9999 100.00 % [==================================================>] 38400/38400 \t used:61s eta:0 sTEST ACC 0.48107850551605225 SELACC 0.5913281440734863 MOVACC 0.8132030963897705 LOSS 3.3899972438812256\n",
      "\n",
      "EPOCH 48 STEP 9999 LR 0.001 ACC 83.66 SELACC85.29 MOVACC98.08 LOSS 0.47  100.00 % [==================================================>] 1280000/1280000 \t used:6145s eta:0 sss\n",
      "validating epoch 48 batch 9999 100.00 % [==================================================>] 38400/38400 \t used:61s eta:0 sTEST ACC 0.47148680686950684 SELACC 0.5841146111488342 MOVACC 0.8069791793823242 LOSS 3.5388288497924805\n",
      "\n",
      "EPOCH 49 STEP 9999 LR 0.001 ACC 83.81 SELACC85.59 MOVACC97.92 LOSS 0.48  100.00 % [==================================================>] 1280000/1280000 \t used:6155s eta:0 sss\n",
      "validating epoch 49 batch 9999 100.00 % [==================================================>] 38400/38400 \t used:61s eta:0 sTEST ACC 0.4924560487270355 SELACC 0.5998437404632568 MOVACC 0.8206510543823242 LOSS 3.306544303894043\n",
      "\n",
      "EPOCH 50 STEP 9999 LR 0.001 ACC 85.72 SELACC87.22 MOVACC98.27 LOSS 0.42  100.00 % [==================================================>] 1280000/1280000 \t used:6138s eta:0 sss\n",
      "validating epoch 50 batch 9999 100.00 % [==================================================>] 38400/38400 \t used:61s eta:0 sTEST ACC 0.4915812313556671 SELACC 0.6006249785423279 MOVACC 0.8184114694595337 LOSS 3.55545973777771\n",
      "\n",
      "EPOCH 51 STEP 9999 LR 0.001 ACC 85.67 SELACC87.05 MOVACC98.41 LOSS 0.41  100.00 % [==================================================>] 1280000/1280000 \t used:6171s eta:0 sss\n",
      "validating epoch 51 batch 9999 100.00 % [==================================================>] 38400/38400 \t used:62s eta:0 sTEST ACC 0.47642314434051514 SELACC 0.5878385305404663 MOVACC 0.8101301789283752 LOSS 3.790070056915283\n",
      "\n",
      "EPOCH 52 STEP 9999 LR 0.001 ACC 84.8 SELACC86.67 MOVACC97.84 LOSS 0.43  100.00 % [==================================================>] 1280000/1280000 \t used:6166s eta:0 ssss\n",
      "validating epoch 52 batch 9999 100.00 % [==================================================>] 38400/38400 \t used:61s eta:0 sTEST ACC 0.4860658645629883 SELACC 0.5982552170753479 MOVACC 0.8122395873069763 LOSS 3.670649528503418\n",
      "\n",
      "EPOCH 53 STEP 9999 LR 0.001 ACC 87.55 SELACC88.9 MOVACC98.49 LOSS 0.37  100.00 % [==================================================>] 1280000/1280000 \t used:6171s eta:0 ssss\n",
      "validating epoch 53 batch 9999 100.00 % [==================================================>] 38400/38400 \t used:62s eta:0 sTEST ACC 0.48766234517097473 SELACC 0.5983853936195374 MOVACC 0.8146353960037231 LOSS 3.737338066101074\n",
      "\n",
      "EPOCH 54 STEP 9999 LR 0.001 ACC 86.39 SELACC88.05 MOVACC98.13 LOSS 0.39  100.00 % [==================================================>] 1280000/1280000 \t used:6166s eta:0 sss\n",
      "validating epoch 54 batch 9999 100.00 % [==================================================>] 38400/38400 \t used:61s eta:0 sTEST ACC 0.4913136661052704 SELACC 0.6017187237739563 MOVACC 0.8167187571525574 LOSS 3.8987808227539062\n",
      "\n",
      "EPOCH 55 STEP 2790 LR 0.001 ACC 86.31 SELACC87.74 MOVACC98.37 LOSS 0.4  27.91 % [=============>-------------------------------------] 357248/1280000 \t used:1719s eta:4442 ss"
     ]
    }
   ],
   "source": [
    "restore = True\n",
    "N_EPOCH = 100\n",
    "DECAY_EPOCH = 20\n",
    "\n",
    "class ExpVal:\n",
    "    def __init__(self,exp_a=0.97):\n",
    "        self.val = None\n",
    "        self.exp_a = exp_a\n",
    "    def update(self,newval):\n",
    "        if self.val == None:\n",
    "            self.val = newval\n",
    "        else:\n",
    "            self.val = self.exp_a * self.val + (1 - self.exp_a) * newval\n",
    "    def getval(self):\n",
    "        return round(self.val,2)\n",
    "    \n",
    "expacc = ExpVal()\n",
    "expacc_select = ExpVal()\n",
    "expacc_move = ExpVal()\n",
    "exploss = ExpVal()\n",
    "\n",
    "\n",
    "begining_learning_rate = 1e-1\n",
    "\n",
    "pred_image = None\n",
    "if restore == False:\n",
    "    train_epoch = 1\n",
    "    train_batch = 0\n",
    "for one_epoch in range(train_epoch,N_EPOCH):\n",
    "    train_epoch = one_epoch\n",
    "    pb = ProgressBar(worksum=N_BATCH * BATCH_SIZE,info=\" epoch {} batch {}\".format(train_epoch,train_batch))\n",
    "    pb.startjob()\n",
    "    \n",
    "    for one_batch in range(N_BATCH):\n",
    "        if restore == True and one_batch < train_batch:\n",
    "            pb.auto_display = False\n",
    "            pb.complete(BATCH_SIZE)\n",
    "            pb.auto_display = True\n",
    "            continue\n",
    "        else:\n",
    "            restore = False\n",
    "        train_batch = one_batch\n",
    "        \n",
    "        batch_x1,batch_y1,batch_x2,batch_y2 = trainflow.next()['data']\n",
    "        # learning rate decay strategy\n",
    "        batch_lr = begining_learning_rate * 10 ** -(one_epoch // DECAY_EPOCH)\n",
    "        \n",
    "        _,step_loss,step_acc_move,step_acc_select,step_acc_total,step_value,step_summary = sess.run(\n",
    "            [train_op,loss,accuracy_move,accuracy_select,accuracy_total,global_step,summary_op],feed_dict={\n",
    "                X1:batch_x1,y1:batch_y1,X2:batch_x2,y2:batch_y2,learning_rate:batch_lr,training:True\n",
    "            })\n",
    "        train_summary_writer.add_summary(step_summary,step_value)\n",
    "        step_acc_move *= 100\n",
    "        step_acc_select *= 100\n",
    "        step_acc_total *= 100\n",
    "        expacc.update(step_acc_total)\n",
    "        expacc_select.update(step_acc_select)\n",
    "        expacc_move.update(step_acc_move)\n",
    "        exploss.update(step_loss)\n",
    "\n",
    "       \n",
    "        pb.info = \"EPOCH {} STEP {} LR {} ACC {} SELACC{} MOVACC{} LOSS {} \".format(\n",
    "            one_epoch,one_batch,batch_lr,expacc.getval()\n",
    "            ,expacc_select.getval(),expacc_move.getval(),exploss.getval())\n",
    "        \n",
    "        pb.complete(BATCH_SIZE)\n",
    "    print()\n",
    "    accs = []\n",
    "    accselects = []\n",
    "    accmoves = []\n",
    "    losses = []\n",
    "    lossselects = []\n",
    "    lossmoves = []\n",
    "    pb = ProgressBar(worksum=N_BATCH_TEST * BATCH_SIZE,info=\"validating epoch {} batch {}\".format(train_epoch,train_batch))\n",
    "    pb.startjob()\n",
    "    for one_batch in range(N_BATCH_TEST):\n",
    "        batch_x1,batch_y1,batch_x2,batch_y2 = testflow.next()['data']\n",
    "        step_loss_move,step_loss_select,step_loss,step_accuracy_move,step_accuracy_select,step_accuracy_total = sess.run(\n",
    "            [loss_move,loss_select,loss,accuracy_move,accuracy_select,accuracy_total],feed_dict={\n",
    "                X1:batch_x1,y1:batch_y1,X2:batch_x2,y2:batch_y2,training:False\n",
    "            })\n",
    "        accs.append(step_accuracy_total)\n",
    "        accselects.append(step_accuracy_select)\n",
    "        accmoves.append(step_accuracy_move)\n",
    "        losses.append(step_loss)\n",
    "        lossselects.append(step_loss_select)\n",
    "        lossmoves.append(step_loss_move)\n",
    "        \n",
    "        pb.complete(BATCH_SIZE)\n",
    "    print(\"TEST ACC {} SELACC {} MOVACC {} LOSS {}\".format(np.average(accs),np.average(accselects)\n",
    "                                                           ,np.average(accmoves),np.average(losses)))\n",
    "    #test_select_summary,test_move_summary,test_total_summary\n",
    "    #                                   ,test_selectacc_summary,test_moveacc_summary,test_totalacc_summary\n",
    "    test_to_add_to_log = sess.run(test_summary_op,feed_dict={\n",
    "        test_select:np.average(lossselects),test_move:np.average(lossmoves),test_total:np.average(losses)\n",
    "        ,test_selectacc:np.average(accselects),test_moveacc:np.average(accmoves),test_totalacc:np.average(accs)\n",
    "    })\n",
    "    train_summary_writer.add_summary(test_to_add_to_log,step_value)\n",
    "    print()\n",
    "    saver = tf.train.Saver(var_list=tf.global_variables())\n",
    "    saver.save(sess,\"models/{}/model_{}\".format(model_name,one_epoch))"
   ]
  },
  {
   "cell_type": "code",
   "execution_count": null,
   "metadata": {
    "collapsed": true
   },
   "outputs": [],
   "source": []
  }
 ],
 "metadata": {
  "anaconda-cloud": {},
  "kernelspec": {
   "display_name": "Python [conda root]",
   "language": "python",
   "name": "conda-root-py"
  },
  "language_info": {
   "codemirror_mode": {
    "name": "ipython",
    "version": 3
   },
   "file_extension": ".py",
   "mimetype": "text/x-python",
   "name": "python",
   "nbconvert_exporter": "python",
   "pygments_lexer": "ipython3",
   "version": "3.5.2"
  }
 },
 "nbformat": 4,
 "nbformat_minor": 1
}
